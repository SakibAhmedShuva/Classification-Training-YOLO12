{
  "cells": [
    {
      "cell_type": "code",
      "execution_count": null,
      "id": "7c5c51d2",
      "metadata": {
        "id": "7c5c51d2"
      },
      "outputs": [],
      "source": [
        "# # !pip install -U ultralytics\n",
        "# !pip install ultralytics==8.3.125\n",
        "# # !pip install -U roboflow\n",
        "# !pip install -U ipywidgets\n",
        "# !pip install torchvision==0.19"
      ]
    },
    {
      "cell_type": "code",
      "execution_count": null,
      "id": "g_D6h_KtJadA",
      "metadata": {
        "id": "g_D6h_KtJadA"
      },
      "outputs": [],
      "source": [
        "!pip install -U ultralytics\n",
        "# !pip install ultralytics==8.3.125\n",
        "# # !pip install -U roboflow\n",
        "!pip install -U ipywidgets\n",
        "!pip install torchvision"
      ]
    },
    {
      "cell_type": "code",
      "execution_count": 2,
      "id": "7d87afd1",
      "metadata": {
        "colab": {
          "base_uri": "https://localhost:8080/"
        },
        "id": "7d87afd1",
        "outputId": "df709ece-db10-4ecd-db18-703c70764702"
      },
      "outputs": [
        {
          "name": "stdout",
          "output_type": "stream",
          "text": [
            "Creating new Ultralytics Settings v0.0.6 file ✅ \n",
            "View Ultralytics Settings with 'yolo settings' or at '/root/.config/Ultralytics/settings.json'\n",
            "Update Settings with 'yolo settings key=value', i.e. 'yolo settings runs_dir=path/to/dir'. For help see https://docs.ultralytics.com/quickstart/#ultralytics-settings.\n"
          ]
        }
      ],
      "source": [
        "from ultralytics import YOLO\n",
        "import torch\n",
        "torch.cuda.is_available()\n",
        "import os\n",
        "os.environ['WANDB_MODE'] = 'disabled'"
      ]
    },
    {
      "cell_type": "markdown",
      "id": "c9afb8e9",
      "metadata": {
        "id": "c9afb8e9"
      },
      "source": [
        "# Downloading Data"
      ]
    },
    {
      "cell_type": "code",
      "execution_count": null,
      "id": "c2057496",
      "metadata": {
        "colab": {
          "base_uri": "https://localhost:8080/"
        },
        "id": "c2057496",
        "outputId": "cbf73aa6-8aef-415f-96ea-b3dfe1ea50b5"
      },
      "outputs": [],
      "source": [
        "# augmented_data\n",
        "!gdown 1YE48CpAz"
      ]
    },
    {
      "cell_type": "code",
      "execution_count": null,
      "id": "ZHi_A09zIZup",
      "metadata": {
        "id": "ZHi_A09zIZup"
      },
      "outputs": [],
      "source": [
        "!unzip \"/content/dataset_split.zip\" -d /content/"
      ]
    },
    {
      "cell_type": "code",
      "execution_count": null,
      "id": "79d5199f",
      "metadata": {
        "id": "79d5199f"
      },
      "outputs": [],
      "source": [
        "# yolo predict model=yolo11n.pt source='https://ultralytics.com/images/bus.jpg'"
      ]
    },
    {
      "cell_type": "code",
      "execution_count": null,
      "id": "9bf86b0d",
      "metadata": {
        "id": "9bf86b0d"
      },
      "outputs": [],
      "source": [
        "# # Go to YOLOv8 root folder\n",
        "# %cd \"/content/drive/MyDrive/DS/Augmented-train\""
      ]
    },
    {
      "cell_type": "code",
      "execution_count": null,
      "id": "c1cbd461",
      "metadata": {
        "id": "c1cbd461"
      },
      "outputs": [],
      "source": [
        "# !nvcc --version\n",
        "# !nvidia-smi"
      ]
    },
    {
      "cell_type": "code",
      "execution_count": null,
      "id": "9b63e9ac",
      "metadata": {
        "id": "9b63e9ac"
      },
      "outputs": [],
      "source": [
        "# import torch\n",
        "# torch.cuda.is_available()"
      ]
    },
    {
      "cell_type": "code",
      "execution_count": null,
      "id": "bb0b560e",
      "metadata": {
        "id": "bb0b560e"
      },
      "outputs": [],
      "source": [
        "# !pip3 install torch==2.4.1 torchvision==0.15.1 torchaudio==2.4.1 --index-url https://download.pytorch.org/whl/cu121\n"
      ]
    },
    {
      "cell_type": "code",
      "execution_count": null,
      "id": "b30f2a34",
      "metadata": {
        "id": "b30f2a34"
      },
      "outputs": [],
      "source": [
        "# !pip install torch==2.4.1+cu121 --index-url https://download.pytorch.org/whl/cu121"
      ]
    },
    {
      "cell_type": "code",
      "execution_count": 1,
      "id": "XN0L-ANyJoHX",
      "metadata": {
        "colab": {
          "base_uri": "https://localhost:8080/"
        },
        "id": "XN0L-ANyJoHX",
        "outputId": "d23ddeec-e919-4580-8301-2c08a20d95be"
      },
      "outputs": [
        {
          "name": "stdout",
          "output_type": "stream",
          "text": [
            "Mounted at /content/drive\n"
          ]
        }
      ],
      "source": [
        "from google.colab import drive\n",
        "\n",
        "# Mount Google Drive\n",
        "drive.mount('/content/drive')"
      ]
    },
    {
      "cell_type": "code",
      "execution_count": 2,
      "id": "GedkgbvtHSKA",
      "metadata": {
        "id": "GedkgbvtHSKA"
      },
      "outputs": [],
      "source": [
        "DATA_DIR=\"/content/dataset_split\""
      ]
    },
    {
      "cell_type": "code",
      "execution_count": 3,
      "id": "LjPPjLdXKZJ7",
      "metadata": {
        "colab": {
          "base_uri": "https://localhost:8080/"
        },
        "id": "LjPPjLdXKZJ7",
        "outputId": "234e1f2e-f7ab-4de3-d890-70065c4c608f"
      },
      "outputs": [
        {
          "name": "stdout",
          "output_type": "stream",
          "text": [
            "Created directory: /content/drive/MyDrive/DS/New-Car\n",
            "/content/drive/MyDrive/DS/New-Car\n"
          ]
        }
      ],
      "source": [
        "# Go to YOLOv8 root folder\n",
        "import os\n",
        "\n",
        "target_dir = \"/content/drive/MyDrive/DS/New-Car\"\n",
        "\n",
        "# Create the directory if it doesn't exist\n",
        "if not os.path.exists(target_dir):\n",
        "    os.makedirs(target_dir)\n",
        "    print(f\"Created directory: {target_dir}\")\n",
        "else:\n",
        "    print(f\"Directory already exists: {target_dir}\")\n",
        "\n",
        "# Change to the directory\n",
        "%cd \"{target_dir}\""
      ]
    },
    {
      "cell_type": "markdown",
      "id": "II48R6SenUZ7",
      "metadata": {
        "id": "II48R6SenUZ7"
      },
      "source": [
        "# Downloading Model"
      ]
    },
    {
      "cell_type": "code",
      "execution_count": null,
      "id": "gX_WiOHJnUBK",
      "metadata": {
        "colab": {
          "base_uri": "https://localhost:8080/"
        },
        "id": "gX_WiOHJnUBK",
        "outputId": "0cc77d79-5bba-4e0f-a2f5-bce74edcb752"
      },
      "outputs": [],
      "source": [
        "#Models\n",
        "!gdown --folder 1J0SLf76Z0DRtGwSdQVa"
      ]
    },
    {
      "cell_type": "markdown",
      "id": "0c6c5df8",
      "metadata": {},
      "source": [
        "# Starting Training"
      ]
    },
    {
      "cell_type": "code",
      "execution_count": null,
      "id": "pNXnFBpvk_At",
      "metadata": {
        "id": "pNXnFBpvk_At"
      },
      "outputs": [],
      "source": [
        "!yolo task=classify mode=train model=yolo12x-cls.yaml data='{DATA_DIR}' epochs=1500 device=0 batch=150 workers=128 seed=101 patience=300 #resume=True"
      ]
    },
    {
      "cell_type": "markdown",
      "id": "bbd1199f",
      "metadata": {},
      "source": [
        "# Continue Training"
      ]
    },
    {
      "cell_type": "code",
      "execution_count": null,
      "id": "b8de7d54",
      "metadata": {
        "colab": {
          "base_uri": "https://localhost:8080/"
        },
        "id": "b8de7d54",
        "outputId": "aabb679f-3243-4e77-831d-29903013e861"
      },
      "outputs": [
        {
          "name": "stdout",
          "output_type": "stream",
          "text": [
            "Ultralytics 8.3.151 🚀 Python-3.11.13 torch-2.6.0+cu124 CUDA:0 (Tesla T4, 15095MiB)\n",
            "\u001b[34m\u001b[1mengine/trainer: \u001b[0magnostic_nms=False, amp=True, augment=False, auto_augment=randaugment, batch=16, bgr=0.0, box=7.5, cache=False, cfg=None, classes=None, close_mosaic=10, cls=0.5, conf=None, copy_paste=0.0, copy_paste_mode=flip, cos_lr=False, cutmix=0.0, data=/content/dataset_split, degrees=0.0, deterministic=True, device=0, dfl=1.5, dnn=False, dropout=0.0, dynamic=False, embed=None, epochs=1500, erasing=0.4, exist_ok=False, fliplr=0.5, flipud=0.0, format=torchscript, fraction=1.0, freeze=None, half=False, hsv_h=0.015, hsv_s=0.7, hsv_v=0.4, imgsz=224, int8=False, iou=0.7, keras=False, kobj=1.0, line_width=None, lr0=0.01, lrf=0.01, mask_ratio=4, max_det=300, mixup=0.0, mode=train, model=runs/classify/train/weights/last.pt, momentum=0.937, mosaic=1.0, multi_scale=False, name=train, nbs=64, nms=False, opset=None, optimize=False, optimizer=auto, overlap_mask=True, patience=300, perspective=0.0, plots=True, pose=12.0, pretrained=True, profile=False, project=None, rect=False, resume=runs/classify/train/weights/last.pt, retina_masks=False, save=True, save_conf=False, save_crop=False, save_dir=runs/classify/train, save_frames=False, save_json=False, save_period=-1, save_txt=False, scale=0.5, seed=101, shear=0.0, show=False, show_boxes=True, show_conf=True, show_labels=True, simplify=True, single_cls=False, source=None, split=val, stream_buffer=False, task=classify, time=None, tracker=botsort.yaml, translate=0.1, val=True, verbose=True, vid_stride=1, visualize=False, warmup_bias_lr=0.0, warmup_epochs=3.0, warmup_momentum=0.8, weight_decay=0.0005, workers=16, workspace=None\n",
            "\u001b[34m\u001b[1mtrain:\u001b[0m /content/dataset_split/train... found 2670 images in 2 classes ✅ \n",
            "\u001b[34m\u001b[1mval:\u001b[0m /content/dataset_split/val... found 890 images in 2 classes ✅ \n",
            "\u001b[34m\u001b[1mtest:\u001b[0m /content/dataset_split/test... found 892 images in 2 classes ✅ \n",
            "\n",
            "                   from  n    params  module                                       arguments                     \n",
            "  0                  -1  1      2784  ultralytics.nn.modules.conv.Conv             [3, 96, 3, 2]                 \n",
            "  1                  -1  1    166272  ultralytics.nn.modules.conv.Conv             [96, 192, 3, 2]               \n",
            "  2                  -1  2    389760  ultralytics.nn.modules.block.C3k2            [192, 384, 2, True, 0.25]     \n",
            "  3                  -1  1   1327872  ultralytics.nn.modules.conv.Conv             [384, 384, 3, 2]              \n",
            "  4                  -1  2   1553664  ultralytics.nn.modules.block.C3k2            [384, 768, 2, True, 0.25]     \n",
            "  5                  -1  1   5309952  ultralytics.nn.modules.conv.Conv             [768, 768, 3, 2]              \n",
            "  6                  -1  4   9512128  ultralytics.nn.modules.block.A2C2f           [768, 768, 4, True, 4, True, 1.2]\n",
            "  7                  -1  1   5309952  ultralytics.nn.modules.conv.Conv             [768, 768, 3, 2]              \n",
            "  8                  -1  4   9512128  ultralytics.nn.modules.block.A2C2f           [768, 768, 4, True, 1, True, 1.2]\n",
            "  9                  -1  1    988162  ultralytics.nn.modules.head.Classify         [768, 2]                      \n",
            "YOLO12x-cls summary: 312 layers, 34,072,674 parameters, 34,072,674 gradients, 126.5 GFLOPs\n",
            "Transferred 736/736 items from pretrained weights\n",
            "\u001b[34m\u001b[1mAMP: \u001b[0mrunning Automatic Mixed Precision (AMP) checks...\n",
            "Downloading https://github.com/ultralytics/assets/releases/download/v8.3.0/yolo11n.pt to 'yolo11n.pt'...\n",
            "100% 5.35M/5.35M [00:00<00:00, 98.2MB/s]\n",
            "\u001b[34m\u001b[1mAMP: \u001b[0mchecks passed ✅\n",
            "\u001b[34m\u001b[1mtrain: \u001b[0mFast image access ✅ (ping: 0.0±0.0 ms, read: 154.2±237.8 MB/s, size: 171.6 KB)\n",
            "\u001b[34m\u001b[1mtrain: \u001b[0mScanning /content/dataset_split/train... 2303 images, 0 corrupt:  86% 2303/2670 [00:05<00:00, 498.07it/s]/usr/local/lib/python3.11/dist-packages/PIL/Image.py:3570: UserWarning: image file could not be identified because AVIF support not installed\n",
            "  warnings.warn(message)\n",
            "\u001b[34m\u001b[1mtrain: \u001b[0mScanning /content/dataset_split/train... 2669 images, 1 corrupt: 100% 2670/2670 [00:07<00:00, 372.72it/s]\n",
            "\u001b[34m\u001b[1mtrain: \u001b[0m/content/dataset_split/train/correct/listing_7818908_service_history_14499980.png: corrupt JPEG restored and saved\n",
            "\u001b[34m\u001b[1mtrain: \u001b[0m/content/dataset_split/train/correct/listing_7818908_service_history_14499982.png: corrupt JPEG restored and saved\n",
            "\u001b[34m\u001b[1mtrain: \u001b[0m/content/dataset_split/train/incorrect/inc_image_listing_8891976_driver_rear_side_17160280.png: ignoring corrupt image/label: cannot identify image file '/content/dataset_split/train/incorrect/inc_image_listing_8891976_driver_rear_side_17160280.png'\n",
            "\u001b[34m\u001b[1mtrain: \u001b[0mNew cache created: /content/dataset_split/train.cache\n",
            "\u001b[34m\u001b[1mval: \u001b[0mFast image access ✅ (ping: 0.0±0.1 ms, read: 115.3±63.9 MB/s, size: 2379.1 KB)\n",
            "\u001b[34m\u001b[1mval: \u001b[0mScanning /content/dataset_split/val... 689 images, 0 corrupt:  77% 689/890 [00:00<00:00, 876.15it/s]/usr/local/lib/python3.11/dist-packages/PIL/Image.py:3570: UserWarning: image file could not be identified because AVIF support not installed\n",
            "  warnings.warn(message)\n",
            "\u001b[34m\u001b[1mval: \u001b[0mScanning /content/dataset_split/val... 888 images, 2 corrupt: 100% 890/890 [00:01<00:00, 529.71it/s]\n",
            "\u001b[34m\u001b[1mval: \u001b[0m/content/dataset_split/val/incorrect/inc_image_listing_8891976_driver_front_side_17160226.png: ignoring corrupt image/label: cannot identify image file '/content/dataset_split/val/incorrect/inc_image_listing_8891976_driver_front_side_17160226.png'\n",
            "\u001b[34m\u001b[1mval: \u001b[0m/content/dataset_split/val/incorrect/inc_image_listing_8891976_passenger_front_side_17160260.png: ignoring corrupt image/label: cannot identify image file '/content/dataset_split/val/incorrect/inc_image_listing_8891976_passenger_front_side_17160260.png'\n",
            "\u001b[34m\u001b[1mval: \u001b[0mNew cache created: /content/dataset_split/val.cache\n",
            "\u001b[34m\u001b[1moptimizer:\u001b[0m 'optimizer=auto' found, ignoring 'lr0=0.01' and 'momentum=0.937' and determining best 'optimizer', 'lr0' and 'momentum' automatically... \n",
            "\u001b[34m\u001b[1moptimizer:\u001b[0m SGD(lr=0.01, momentum=0.9) with parameter groups 122 weight(decay=0.0), 125 weight(decay=0.0005), 123 bias(decay=0.0)\n",
            "Resuming training runs/classify/train/weights/last.pt from epoch 79 to 1500 total epochs\n",
            "Image sizes 224 train, 224 val\n",
            "Using 2 dataloader workers\n",
            "Logging results to \u001b[1mruns/classify/train\u001b[0m\n",
            "Starting training for 1500 epochs...\n",
            "\n",
            "      Epoch    GPU_mem       loss  Instances       Size\n",
            "    79/1500      2.29G     0.4413         13        224: 100% 167/167 [05:32<00:00,  1.99s/it]\n",
            "               classes   top1_acc   top5_acc: 100% 28/28 [01:30<00:00,  3.24s/it]\n",
            "                   all      0.767          1\n",
            "\n",
            "      Epoch    GPU_mem       loss  Instances       Size\n",
            "    80/1500      2.61G      0.426         16        224:  59% 98/167 [03:05<01:48,  1.58s/it]"
          ]
        }
      ],
      "source": [
        "!yolo task=classify mode=train model=./runs/classify/train/weights/last.pt data='{DATA_DIR}' epochs=1500 device=0 batch=16 workers=16 seed=101 patience=300 resume=True"
      ]
    },
    {
      "cell_type": "markdown",
      "id": "p4-s6RqpSV2v",
      "metadata": {
        "id": "p4-s6RqpSV2v"
      },
      "source": [
        "# Validation"
      ]
    },
    {
      "cell_type": "code",
      "execution_count": null,
      "id": "OrCul1xsSVRI",
      "metadata": {
        "id": "OrCul1xsSVRI"
      },
      "outputs": [],
      "source": [
        "!yolo task=classify mode=val model={HOME}/runs/classify/train/weights/best.pt data='{DATA_DIR}'"
      ]
    }
  ],
  "metadata": {
    "accelerator": "GPU",
    "colab": {
      "gpuType": "T4",
      "provenance": []
    },
    "kaggle": {
      "accelerator": "nvidiaTeslaT4",
      "dataSources": [],
      "dockerImageVersionId": 31011,
      "isGpuEnabled": true,
      "isInternetEnabled": true,
      "language": "python",
      "sourceType": "notebook"
    },
    "kernelspec": {
      "display_name": "Python 3",
      "name": "python3"
    },
    "language_info": {
      "codemirror_mode": {
        "name": "ipython",
        "version": 3
      },
      "file_extension": ".py",
      "mimetype": "text/x-python",
      "name": "python",
      "nbconvert_exporter": "python",
      "pygments_lexer": "ipython3",
      "version": "3.11.11"
    },
    "papermill": {
      "default_parameters": {},
      "duration": null,
      "end_time": null,
      "environment_variables": {},
      "exception": null,
      "input_path": "__notebook__.ipynb",
      "output_path": "__notebook__.ipynb",
      "parameters": {},
      "start_time": "2025-05-03T17:35:37.082221",
      "version": "2.6.0"
    }
  },
  "nbformat": 4,
  "nbformat_minor": 5
}
