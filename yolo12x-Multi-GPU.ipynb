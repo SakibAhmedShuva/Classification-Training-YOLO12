{
 "cells": [
  {
   "cell_type": "markdown",
   "metadata": {},
   "source": [
    "# Installing Required Packages"
   ]
  },
  {
   "cell_type": "code",
   "execution_count": null,
   "id": "7c5c51d2",
   "metadata": {
    "id": "7c5c51d2"
   },
   "outputs": [],
   "source": [
    "# # !pip install -U ultralytics\n",
    "# !pip install ultralytics==8.3.125\n",
    "# # !pip install -U roboflow\n",
    "# !pip install -U ipywidgets\n",
    "# !pip install torchvision==0.19"
   ]
  },
  {
   "cell_type": "code",
   "execution_count": null,
   "id": "g_D6h_KtJadA",
   "metadata": {
    "execution": {
     "iopub.execute_input": "2025-06-07T11:46:35.677092Z",
     "iopub.status.busy": "2025-06-07T11:46:35.676663Z",
     "iopub.status.idle": "2025-06-07T11:47:54.252616Z",
     "shell.execute_reply": "2025-06-07T11:47:54.251925Z",
     "shell.execute_reply.started": "2025-06-07T11:46:35.677068Z"
    },
    "id": "g_D6h_KtJadA",
    "outputId": "b79b9a3d-9263-40c9-8710-2bfafcc5147f",
    "trusted": true
   },
   "outputs": [],
   "source": [
    "!pip install ultralytics==8.3.151\n",
    "# !pip install ultralytics==8.3.125\n",
    "# # !pip install -U roboflow\n",
    "!pip install -U ipywidgets\n",
    "!pip install torchvision"
   ]
  },
  {
   "cell_type": "markdown",
   "metadata": {},
   "source": [
    "# Importing"
   ]
  },
  {
   "cell_type": "code",
   "execution_count": null,
   "id": "7d87afd1",
   "metadata": {
    "execution": {
     "iopub.execute_input": "2025-06-07T11:47:54.253890Z",
     "iopub.status.busy": "2025-06-07T11:47:54.253603Z",
     "iopub.status.idle": "2025-06-07T11:47:58.063799Z",
     "shell.execute_reply": "2025-06-07T11:47:58.063249Z",
     "shell.execute_reply.started": "2025-06-07T11:47:54.253857Z"
    },
    "id": "7d87afd1",
    "outputId": "c3342b77-1d64-4344-c5ea-f79b13d028f9",
    "trusted": true
   },
   "outputs": [],
   "source": [
    "from ultralytics import YOLO\n",
    "import torch\n",
    "torch.cuda.is_available()\n",
    "import os\n",
    "os.environ['WANDB_MODE'] = 'disabled'"
   ]
  },
  {
   "cell_type": "markdown",
   "id": "c9afb8e9",
   "metadata": {
    "id": "c9afb8e9"
   },
   "source": [
    "# Downloading Data"
   ]
  },
  {
   "cell_type": "code",
   "execution_count": null,
   "id": "c2057496",
   "metadata": {
    "execution": {
     "iopub.execute_input": "2025-06-07T11:47:58.065524Z",
     "iopub.status.busy": "2025-06-07T11:47:58.065232Z",
     "iopub.status.idle": "2025-06-07T11:49:35.097118Z",
     "shell.execute_reply": "2025-06-07T11:49:35.096336Z",
     "shell.execute_reply.started": "2025-06-07T11:47:58.065507Z"
    },
    "id": "c2057496",
    "outputId": "694d7670-d3bd-41bb-a26b-f617a88de37a",
    "trusted": true
   },
   "outputs": [],
   "source": [
    "# augmented_data\n",
    "!gdown 1YE48CpAzkUxhj"
   ]
  },
  {
   "cell_type": "code",
   "execution_count": null,
   "id": "ZHi_A09zIZup",
   "metadata": {
    "execution": {
     "iopub.execute_input": "2025-06-07T11:50:20.138986Z",
     "iopub.status.busy": "2025-06-07T11:50:20.138234Z",
     "iopub.status.idle": "2025-06-07T11:51:25.469672Z",
     "shell.execute_reply": "2025-06-07T11:51:25.468977Z",
     "shell.execute_reply.started": "2025-06-07T11:50:20.138953Z"
    },
    "id": "ZHi_A09zIZup",
    "outputId": "5ee4856f-92d3-4759-80c9-5a0e98705f98",
    "trusted": true
   },
   "outputs": [],
   "source": [
    "!unzip \"dataset_split.zip\" #-d /content/ "
   ]
  },
  {
   "cell_type": "code",
   "execution_count": null,
   "id": "68221d0c",
   "metadata": {
    "id": "68221d0c",
    "outputId": "9e224420-8a1b-49b1-fe96-680a29d50738"
   },
   "outputs": [],
   "source": [
    "# import zipfile\n",
    "# from tqdm import tqdm\n",
    "\n",
    "# def extract_with_progress(zip_path, extract_path):\n",
    "#     with zipfile.ZipFile(zip_path, 'r') as zip_ref:\n",
    "#         # Get list of files\n",
    "#         file_list = zip_ref.namelist()\n",
    "#         # Show progress bar\n",
    "#         for file in tqdm(file_list):\n",
    "#             zip_ref.extract(file, extract_path)\n",
    "\n",
    "# # Use the function\n",
    "# extract_with_progress('./damage-yolo-29-augmented-ROBO-Mar-25.zip', './')"
   ]
  },
  {
   "cell_type": "code",
   "execution_count": null,
   "id": "79d5199f",
   "metadata": {
    "id": "79d5199f"
   },
   "outputs": [],
   "source": [
    "# yolo predict model=yolo11n.pt source='https://ultralytics.com/images/bus.jpg'"
   ]
  },
  {
   "cell_type": "code",
   "execution_count": null,
   "id": "9bf86b0d",
   "metadata": {
    "id": "9bf86b0d"
   },
   "outputs": [],
   "source": [
    "# # Go to YOLOv8 root folder\n",
    "# %cd \"/content/drive/MyDrive/DS/Augmented-train\""
   ]
  },
  {
   "cell_type": "code",
   "execution_count": null,
   "id": "c1cbd461",
   "metadata": {
    "id": "c1cbd461"
   },
   "outputs": [],
   "source": [
    "# !nvcc --version\n",
    "# !nvidia-smi"
   ]
  },
  {
   "cell_type": "code",
   "execution_count": null,
   "id": "9b63e9ac",
   "metadata": {
    "id": "9b63e9ac"
   },
   "outputs": [],
   "source": [
    "# import torch\n",
    "# torch.cuda.is_available()"
   ]
  },
  {
   "cell_type": "code",
   "execution_count": null,
   "id": "bb0b560e",
   "metadata": {
    "id": "bb0b560e"
   },
   "outputs": [],
   "source": [
    "# !pip3 install torch==2.4.1 torchvision==0.15.1 torchaudio==2.4.1 --index-url https://download.pytorch.org/whl/cu121\n"
   ]
  },
  {
   "cell_type": "code",
   "execution_count": null,
   "id": "b30f2a34",
   "metadata": {
    "id": "b30f2a34"
   },
   "outputs": [],
   "source": [
    "# !pip install torch==2.4.1+cu121 --index-url https://download.pytorch.org/whl/cu121"
   ]
  },
  {
   "cell_type": "code",
   "execution_count": null,
   "id": "d66aa77b",
   "metadata": {
    "id": "d66aa77b"
   },
   "outputs": [],
   "source": [
    "# # Train the model\n",
    "# train_results = model.train(\n",
    "#     # model=\"/kaggle/working/runs/segment/train/weights/last.pt\",\n",
    "#     data=\"./data.yaml\",  # path to dataset YAML\n",
    "#     epochs=1000,  # number of training epochs\n",
    "#     # imgsz=640,  # training image size\n",
    "#     device=[0,1],\n",
    "#     batch=24,\n",
    "#     workers=8,\n",
    "#     seed=101,\n",
    "#     patience=500,\n",
    "#     resume=True\n",
    "#     # device to run on, i.e. device=0 or device=0,1,2,3 or device=cpu\n",
    "# )"
   ]
  },
  {
   "cell_type": "code",
   "execution_count": null,
   "id": "XN0L-ANyJoHX",
   "metadata": {
    "id": "XN0L-ANyJoHX",
    "outputId": "ea8451da-efed-4f8b-d503-019b56cf5c84"
   },
   "outputs": [],
   "source": [
    "# from google.colab import drive\n",
    "\n",
    "# # Mount Google Drive\n",
    "# drive.mount('/content/drive')"
   ]
  },
  {
   "cell_type": "code",
   "execution_count": null,
   "id": "GedkgbvtHSKA",
   "metadata": {
    "execution": {
     "iopub.execute_input": "2025-06-07T11:53:07.624451Z",
     "iopub.status.busy": "2025-06-07T11:53:07.623769Z",
     "iopub.status.idle": "2025-06-07T11:53:07.628243Z",
     "shell.execute_reply": "2025-06-07T11:53:07.627620Z",
     "shell.execute_reply.started": "2025-06-07T11:53:07.624423Z"
    },
    "id": "GedkgbvtHSKA",
    "trusted": true
   },
   "outputs": [],
   "source": [
    "DATA_DIR=\"./dataset_split\""
   ]
  },
  {
   "cell_type": "markdown",
   "id": "II48R6SenUZ7",
   "metadata": {
    "id": "II48R6SenUZ7"
   },
   "source": [
    "# Downloading Model"
   ]
  },
  {
   "cell_type": "markdown",
   "metadata": {},
   "source": [
    "# New Train"
   ]
  },
  {
   "cell_type": "code",
   "execution_count": null,
   "id": "pNXnFBpvk_At",
   "metadata": {
    "id": "pNXnFBpvk_At"
   },
   "outputs": [],
   "source": [
    "!yolo task=classify mode=train model=yolo12x-cls.yaml data='{DATA_DIR}' epochs=1500 device=0,1 batch=300 workers=120 seed=101 patience=300 #resume=True"
   ]
  },
  {
   "cell_type": "markdown",
   "metadata": {},
   "source": [
    "# Resume Train"
   ]
  },
  {
   "cell_type": "code",
   "execution_count": null,
   "id": "b8de7d54",
   "metadata": {
    "execution": {
     "iopub.execute_input": "2025-06-07T11:53:11.672117Z",
     "iopub.status.busy": "2025-06-07T11:53:11.671585Z",
     "iopub.status.idle": "2025-06-07T11:58:41.350115Z",
     "shell.execute_reply": "2025-06-07T11:58:41.349165Z",
     "shell.execute_reply.started": "2025-06-07T11:53:11.672096Z"
    },
    "id": "b8de7d54",
    "outputId": "83b69985-0429-4714-b95a-8db162541e00",
    "trusted": true
   },
   "outputs": [],
   "source": [
    "!yolo task=classify mode=train model=./runs/classify/train/weights/last.pt data='{DATA_DIR}' epochs=1500 device=0,1 batch=300 workers=120 seed=101 patience=300 resume=True"
   ]
  },
  {
   "cell_type": "markdown",
   "id": "p4-s6RqpSV2v",
   "metadata": {
    "id": "p4-s6RqpSV2v"
   },
   "source": [
    "# Validation"
   ]
  },
  {
   "cell_type": "code",
   "execution_count": null,
   "id": "OrCul1xsSVRI",
   "metadata": {
    "id": "OrCul1xsSVRI"
   },
   "outputs": [],
   "source": [
    "!yolo task=classify mode=val model={HOME}/runs/classify/train/weights/best.pt data='{DATA_DIR}'"
   ]
  }
 ],
 "metadata": {
  "accelerator": "GPU",
  "colab": {
   "gpuType": "T4",
   "provenance": []
  },
  "kaggle": {
   "accelerator": "nvidiaTeslaT4",
   "dataSources": [],
   "dockerImageVersionId": 31041,
   "isGpuEnabled": true,
   "isInternetEnabled": true,
   "language": "python",
   "sourceType": "notebook"
  },
  "kernelspec": {
   "display_name": "Python 3",
   "language": "python",
   "name": "python3"
  },
  "language_info": {
   "codemirror_mode": {
    "name": "ipython",
    "version": 3
   },
   "file_extension": ".py",
   "mimetype": "text/x-python",
   "name": "python",
   "nbconvert_exporter": "python",
   "pygments_lexer": "ipython3",
   "version": "3.11.11"
  },
  "papermill": {
   "default_parameters": {},
   "duration": null,
   "end_time": null,
   "environment_variables": {},
   "exception": null,
   "input_path": "__notebook__.ipynb",
   "output_path": "__notebook__.ipynb",
   "parameters": {},
   "start_time": "2025-05-03T17:35:37.082221",
   "version": "2.6.0"
  }
 },
 "nbformat": 4,
 "nbformat_minor": 4
}
